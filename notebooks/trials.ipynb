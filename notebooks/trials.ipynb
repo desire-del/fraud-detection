{
 "cells": [
  {
   "metadata": {
    "ExecuteTime": {
     "end_time": "2025-04-04T17:08:16.525898Z",
     "start_time": "2025-04-04T17:08:16.519999Z"
    }
   },
   "cell_type": "code",
   "source": [
    "from frauddetection import logger\n",
    "from frauddetection.exception import CustomException"
   ],
   "id": "f70a6bfff22e2cde",
   "outputs": [],
   "execution_count": 2
  },
  {
   "metadata": {
    "ExecuteTime": {
     "end_time": "2025-04-04T17:12:15.764287Z",
     "start_time": "2025-04-04T17:12:15.732459Z"
    }
   },
   "cell_type": "code",
   "source": [
    "try:\n",
    "    x = 1/0\n",
    "except CustomException as e:\n",
    "    logger.error(\"failed\")\n",
    "except Exception as e:\n",
    "    raise e"
   ],
   "id": "86ed9069ef713406",
   "outputs": [
    {
     "ename": "ZeroDivisionError",
     "evalue": "division by zero",
     "output_type": "error",
     "traceback": [
      "\u001B[31m---------------------------------------------------------------------------\u001B[39m",
      "\u001B[31mZeroDivisionError\u001B[39m                         Traceback (most recent call last)",
      "\u001B[36mCell\u001B[39m\u001B[36m \u001B[39m\u001B[32mIn[6]\u001B[39m\u001B[32m, line 6\u001B[39m\n\u001B[32m      4\u001B[39m     logger.error(\u001B[33m\"\u001B[39m\u001B[33mfailed\u001B[39m\u001B[33m\"\u001B[39m)\n\u001B[32m      5\u001B[39m \u001B[38;5;28;01mexcept\u001B[39;00m \u001B[38;5;167;01mException\u001B[39;00m \u001B[38;5;28;01mas\u001B[39;00m e:\n\u001B[32m----> \u001B[39m\u001B[32m6\u001B[39m     \u001B[38;5;28;01mraise\u001B[39;00m e\n",
      "\u001B[36mCell\u001B[39m\u001B[36m \u001B[39m\u001B[32mIn[6]\u001B[39m\u001B[32m, line 2\u001B[39m\n\u001B[32m      1\u001B[39m \u001B[38;5;28;01mtry\u001B[39;00m:\n\u001B[32m----> \u001B[39m\u001B[32m2\u001B[39m     x = \u001B[32;43m1\u001B[39;49m\u001B[43m/\u001B[49m\u001B[32;43m0\u001B[39;49m\n\u001B[32m      3\u001B[39m \u001B[38;5;28;01mexcept\u001B[39;00m CustomException \u001B[38;5;28;01mas\u001B[39;00m e:\n\u001B[32m      4\u001B[39m     logger.error(\u001B[33m\"\u001B[39m\u001B[33mfailed\u001B[39m\u001B[33m\"\u001B[39m)\n",
      "\u001B[31mZeroDivisionError\u001B[39m: division by zero"
     ]
    }
   ],
   "execution_count": 6
  }
 ],
 "metadata": {
  "kernelspec": {
   "name": "python3",
   "language": "python",
   "display_name": "Python 3 (ipykernel)"
  }
 },
 "nbformat": 5,
 "nbformat_minor": 9
}
